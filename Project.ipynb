{
  "nbformat": 4,
  "nbformat_minor": 0,
  "metadata": {
    "colab": {
      "name": "Project.ipynb",
      "provenance": [],
      "authorship_tag": "ABX9TyN6D8Ars8++ICkE1BEwMN39",
      "include_colab_link": true
    },
    "kernelspec": {
      "name": "python3",
      "display_name": "Python 3"
    },
    "language_info": {
      "name": "python"
    }
  },
  "cells": [
    {
      "cell_type": "markdown",
      "metadata": {
        "id": "view-in-github",
        "colab_type": "text"
      },
      "source": [
        "<a href=\"https://colab.research.google.com/github/tapishgarg-code/Dummy_Parikshak/blob/main/Project.ipynb\" target=\"_parent\"><img src=\"https://colab.research.google.com/assets/colab-badge.svg\" alt=\"Open In Colab\"/></a>"
      ]
    },
    {
      "cell_type": "code",
      "metadata": {
        "id": "P2KFvhZBNqvc",
        "colab": {
          "base_uri": "https://localhost:8080/"
        },
        "outputId": "8b19a778-7920-4239-ea28-97bf2a527da8"
      },
      "source": [
        "from google.colab import drive\n",
        "drive.mount('/content/drive')"
      ],
      "execution_count": 11,
      "outputs": [
        {
          "output_type": "stream",
          "text": [
            "Mounted at /content/drive\n"
          ],
          "name": "stdout"
        }
      ]
    },
    {
      "cell_type": "code",
      "metadata": {
        "id": "MzV7dly1RdGt"
      },
      "source": [
        "import pandas as pd\n",
        "df= pd.read_csv(\"/content/drive/MyDrive/ETH_1H.csv\")\n",
        "df"
      ],
      "execution_count": null,
      "outputs": []
    },
    {
      "cell_type": "code",
      "metadata": {
        "id": "GVLoVfNARmX0"
      },
      "source": [
        "projection = 14    \n",
        "\n",
        "df['Prediction'] = df [['Close']].shift(-projection)\n",
        "df.head(20)"
      ],
      "execution_count": null,
      "outputs": []
    },
    {
      "cell_type": "code",
      "metadata": {
        "id": "EegiQJasSPfs"
      },
      "source": [
        "df.tail(14)"
      ],
      "execution_count": null,
      "outputs": []
    },
    {
      "cell_type": "code",
      "metadata": {
        "id": "617Hh23qSPoD"
      },
      "source": [
        "import numpy as np\n",
        "x = np.array(df[['Close']]) \n",
        "x=x[:-projection]\n",
        "print(x)"
      ],
      "execution_count": null,
      "outputs": []
    },
    {
      "cell_type": "code",
      "metadata": {
        "id": "Ywsewx0qSPt0"
      },
      "source": [
        "y= df['Prediction'].values\n",
        "y= y[:-projection]\n",
        "print(y)"
      ],
      "execution_count": null,
      "outputs": []
    },
    {
      "cell_type": "code",
      "metadata": {
        "id": "uKDy7fsXSPyN"
      },
      "source": [
        "from sklearn.model_selection import train_test_split\n",
        "x_train, x_test, y_train, y_test = train_test_split(x,y, test_size = .20)"
      ],
      "execution_count": null,
      "outputs": []
    },
    {
      "cell_type": "code",
      "metadata": {
        "id": "uNU3Aer3SP1W"
      },
      "source": [
        "import matplotlib.pyplot as plt\n",
        "plt.scatter(x_test, y_test, color = \"red\")\n",
        "plt.title(\"Etherium price vs Predicted Price after 14 days (Training set)\")\n",
        "plt.xlabel(\"Etherium Price\")\n",
        "plt.ylabel(\"Prediction Price\")\n",
        "plt.show()"
      ],
      "execution_count": null,
      "outputs": []
    },
    {
      "cell_type": "code",
      "metadata": {
        "id": "acyEbV7WSP4l"
      },
      "source": [
        "from sklearn.linear_model import LinearRegression\n",
        "linReg = LinearRegression()\n",
        "\n",
        "linReg.fit(x_train, y_train)"
      ],
      "execution_count": null,
      "outputs": []
    },
    {
      "cell_type": "code",
      "metadata": {
        "id": "cK2EK7ymSP7d"
      },
      "source": [
        "linReg_confidense = linReg.score(x_test, y_test)\n",
        "print(\"Linear regression confidence :\", linReg_confidense)"
      ],
      "execution_count": null,
      "outputs": []
    },
    {
      "cell_type": "code",
      "metadata": {
        "id": "Nm9KpVgRSP-L"
      },
      "source": [
        "linReg_prediction = linReg.predict(x_test)\n",
        "print(linReg_prediction)"
      ],
      "execution_count": null,
      "outputs": []
    },
    {
      "cell_type": "code",
      "metadata": {
        "id": "tzuWmPIfS7j0"
      },
      "source": [
        "plt.scatter(x_test, y_test, color = \"red\")\n",
        "plt.plot(x_train, linReg.predict(x_train), color = \"green\")\n",
        "plt.title(\"Etherium price vs Predicted Price after 14 days (Training set)\")\n",
        "plt.xlabel(\"Etherium Price\")\n",
        "plt.ylabel(\"Predicted Price\")\n",
        "plt.show()"
      ],
      "execution_count": null,
      "outputs": []
    },
    {
      "cell_type": "code",
      "metadata": {
        "id": "VZ-I-VU6S8Zl"
      },
      "source": [
        ""
      ],
      "execution_count": null,
      "outputs": []
    }
  ]
}